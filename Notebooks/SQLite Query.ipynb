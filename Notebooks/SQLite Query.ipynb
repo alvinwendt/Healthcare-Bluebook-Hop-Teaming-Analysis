{
 "cells": [
  {
   "cell_type": "code",
   "execution_count": 1,
   "metadata": {},
   "outputs": [],
   "source": [
    "import pandas as pd\n",
    "import sqlite3\n",
    "from tqdm.notebook import tqdm\n",
    "import re\n",
    "pd.set_option('display.max_columns', 999)"
   ]
  },
  {
   "cell_type": "markdown",
   "metadata": {},
   "source": [
    "#### Connect to SQLite database"
   ]
  },
  {
   "cell_type": "code",
   "execution_count": 2,
   "metadata": {},
   "outputs": [],
   "source": [
    "db = sqlite3.connect('data/NPPES_Data_Dissemination_February_2021/npidata2.sqlite')"
   ]
  },
  {
   "cell_type": "markdown",
   "metadata": {},
   "source": [
    "#### SQL query for npi data"
   ]
  },
  {
   "cell_type": "code",
   "execution_count": 7,
   "metadata": {},
   "outputs": [],
   "source": [
    "query = \"\"\"\n",
    "        SELECT * \n",
    "        FROM npidata\n",
    "        LIMIT 5\n",
    " \"\"\""
   ]
  },
  {
   "cell_type": "markdown",
   "metadata": {},
   "source": [
    "#### Assign query to variable"
   ]
  },
  {
   "cell_type": "code",
   "execution_count": 8,
   "metadata": {},
   "outputs": [],
   "source": [
    "npi_sqlite = pd.read_sql(query, db) "
   ]
  },
  {
   "cell_type": "markdown",
   "metadata": {},
   "source": [
    "#### View npi data variable"
   ]
  },
  {
   "cell_type": "code",
   "execution_count": 9,
   "metadata": {
    "scrolled": true
   },
   "outputs": [
    {
     "data": {
      "text/html": [
       "<div>\n",
       "<style scoped>\n",
       "    .dataframe tbody tr th:only-of-type {\n",
       "        vertical-align: middle;\n",
       "    }\n",
       "\n",
       "    .dataframe tbody tr th {\n",
       "        vertical-align: top;\n",
       "    }\n",
       "\n",
       "    .dataframe thead th {\n",
       "        text-align: right;\n",
       "    }\n",
       "</style>\n",
       "<table border=\"1\" class=\"dataframe\">\n",
       "  <thead>\n",
       "    <tr style=\"text-align: right;\">\n",
       "      <th></th>\n",
       "      <th>NPI</th>\n",
       "      <th>Entity_Type_Code</th>\n",
       "      <th>Provider_Organization_Name</th>\n",
       "      <th>Provider_Last_Name</th>\n",
       "      <th>Provider_First_Name</th>\n",
       "      <th>First_Line_Address</th>\n",
       "      <th>Second_Line_Address</th>\n",
       "      <th>Address_City</th>\n",
       "      <th>Address_Postal_Codes</th>\n",
       "      <th>Provider_Credential_Text</th>\n",
       "      <th>Gender</th>\n",
       "      <th>Healthcare_Provider_Taxonomy_Code</th>\n",
       "    </tr>\n",
       "  </thead>\n",
       "  <tbody>\n",
       "    <tr>\n",
       "      <th>0</th>\n",
       "      <td>1841293891</td>\n",
       "      <td>1.0</td>\n",
       "      <td>None</td>\n",
       "      <td>GIBBS</td>\n",
       "      <td>ELMER</td>\n",
       "      <td>49 CLEVELAND ST 310</td>\n",
       "      <td>None</td>\n",
       "      <td>CROSSVILLE</td>\n",
       "      <td>38555</td>\n",
       "      <td>M.D.</td>\n",
       "      <td>M</td>\n",
       "      <td>208600000X</td>\n",
       "    </tr>\n",
       "    <tr>\n",
       "      <th>1</th>\n",
       "      <td>1659374601</td>\n",
       "      <td>1.0</td>\n",
       "      <td>None</td>\n",
       "      <td>OBERDICK</td>\n",
       "      <td>WENDY</td>\n",
       "      <td>105 W STONE DR</td>\n",
       "      <td>STE 1F</td>\n",
       "      <td>KINGSPORT</td>\n",
       "      <td>37660</td>\n",
       "      <td>MD</td>\n",
       "      <td>F</td>\n",
       "      <td>207Q00000X</td>\n",
       "    </tr>\n",
       "    <tr>\n",
       "      <th>2</th>\n",
       "      <td>1134122187</td>\n",
       "      <td>1.0</td>\n",
       "      <td>None</td>\n",
       "      <td>RUDNICKE</td>\n",
       "      <td>CHERYL</td>\n",
       "      <td>250 25TH AVE N</td>\n",
       "      <td>STE 412</td>\n",
       "      <td>NASHVILLE</td>\n",
       "      <td>37203</td>\n",
       "      <td>CRNP</td>\n",
       "      <td>F</td>\n",
       "      <td>363L00000X</td>\n",
       "    </tr>\n",
       "    <tr>\n",
       "      <th>3</th>\n",
       "      <td>1003819046</td>\n",
       "      <td>1.0</td>\n",
       "      <td>None</td>\n",
       "      <td>NYLANDER</td>\n",
       "      <td>BARBARA</td>\n",
       "      <td>345 23RD AVE N</td>\n",
       "      <td>SUITE 209</td>\n",
       "      <td>NASHVILLE</td>\n",
       "      <td>37203</td>\n",
       "      <td>M.D.</td>\n",
       "      <td>F</td>\n",
       "      <td>207VG0400X</td>\n",
       "    </tr>\n",
       "    <tr>\n",
       "      <th>4</th>\n",
       "      <td>1750384780</td>\n",
       "      <td>1.0</td>\n",
       "      <td>None</td>\n",
       "      <td>PERRIGIN</td>\n",
       "      <td>JULIE</td>\n",
       "      <td>219 CHURCH ST</td>\n",
       "      <td>None</td>\n",
       "      <td>DICKSON</td>\n",
       "      <td>37055</td>\n",
       "      <td>MD</td>\n",
       "      <td>F</td>\n",
       "      <td>207Q00000X</td>\n",
       "    </tr>\n",
       "  </tbody>\n",
       "</table>\n",
       "</div>"
      ],
      "text/plain": [
       "          NPI  Entity_Type_Code Provider_Organization_Name Provider_Last_Name  \\\n",
       "0  1841293891               1.0                       None              GIBBS   \n",
       "1  1659374601               1.0                       None           OBERDICK   \n",
       "2  1134122187               1.0                       None           RUDNICKE   \n",
       "3  1003819046               1.0                       None           NYLANDER   \n",
       "4  1750384780               1.0                       None           PERRIGIN   \n",
       "\n",
       "  Provider_First_Name   First_Line_Address Second_Line_Address Address_City  \\\n",
       "0               ELMER  49 CLEVELAND ST 310                None   CROSSVILLE   \n",
       "1               WENDY       105 W STONE DR              STE 1F    KINGSPORT   \n",
       "2              CHERYL       250 25TH AVE N             STE 412    NASHVILLE   \n",
       "3             BARBARA       345 23RD AVE N           SUITE 209    NASHVILLE   \n",
       "4               JULIE        219 CHURCH ST                None      DICKSON   \n",
       "\n",
       "  Address_Postal_Codes Provider_Credential_Text Gender  \\\n",
       "0                38555                     M.D.      M   \n",
       "1                37660                       MD      F   \n",
       "2                37203                     CRNP      F   \n",
       "3                37203                     M.D.      F   \n",
       "4                37055                       MD      F   \n",
       "\n",
       "  Healthcare_Provider_Taxonomy_Code  \n",
       "0                        208600000X  \n",
       "1                        207Q00000X  \n",
       "2                        363L00000X  \n",
       "3                        207VG0400X  \n",
       "4                        207Q00000X  "
      ]
     },
     "execution_count": 9,
     "metadata": {},
     "output_type": "execute_result"
    }
   ],
   "source": [
    "npi_sqlite"
   ]
  },
  {
   "cell_type": "markdown",
   "metadata": {},
   "source": [
    "#### Run query to join npi data, CBSA data and Taxonomy classification with filter on General Acute Care Hospitals, entity type 2 and CBSA"
   ]
  },
  {
   "cell_type": "code",
   "execution_count": null,
   "metadata": {},
   "outputs": [],
   "source": [
    "query1 = \"\"\"\n",
    "        SELECT *\n",
    "        FROM npidata AS n\n",
    "        INNER JOIN taxonomy AS t\n",
    "        on n.Healthcare_Provider_Taxonomy_Code = t.Code\n",
    "        INNER JOIN hops AS h \n",
    "        on n.NPI = h.to_npi\n",
    "        INNER JOIN CBSA as c\n",
    "        on n.Address_Postal_Codes = c.ZIP\n",
    "        WHERE Entity_Type_Code = 2.0 AND Classification = 'General Acute Care Hospital'AND CBSA = 34980  \n",
    " \"\"\""
   ]
  },
  {
   "cell_type": "markdown",
   "metadata": {},
   "source": [
    "#### Assign variable to above query "
   ]
  },
  {
   "cell_type": "code",
   "execution_count": null,
   "metadata": {},
   "outputs": [],
   "source": [
    "npi_sqlite1 = pd.read_sql(query1, db)"
   ]
  },
  {
   "cell_type": "markdown",
   "metadata": {},
   "source": [
    "#### View query"
   ]
  },
  {
   "cell_type": "code",
   "execution_count": null,
   "metadata": {
    "scrolled": true
   },
   "outputs": [],
   "source": [
    "npi_sqlite1"
   ]
  },
  {
   "cell_type": "markdown",
   "metadata": {},
   "source": [
    "#### Run query to join npi data, CBSA data and Taxonomy classification with filter on entity type 1 and CBSA"
   ]
  },
  {
   "cell_type": "code",
   "execution_count": null,
   "metadata": {},
   "outputs": [],
   "source": [
    "query2 = \"\"\"\n",
    "        SELECT *\n",
    "        FROM npidata AS n\n",
    "        INNER JOIN taxonomy AS t\n",
    "        on n.Healthcare_Provider_Taxonomy_Code = t.Code\n",
    "        INNER JOIN hops AS h \n",
    "        on n.NPI = h.from_npi\n",
    "        INNER JOIN CBSA as c\n",
    "        on n.Address_Postal_Codes = c.ZIP\n",
    "        WHERE Entity_Type_Code = 1.0 AND CBSA = 34980  \n",
    " \"\"\""
   ]
  },
  {
   "cell_type": "markdown",
   "metadata": {},
   "source": [
    "#### Assign variable to above query "
   ]
  },
  {
   "cell_type": "code",
   "execution_count": null,
   "metadata": {},
   "outputs": [],
   "source": [
    "from npi = type code 1, to npi = type code 2"
   ]
  },
  {
   "cell_type": "markdown",
   "metadata": {},
   "source": [
    "#### View query above"
   ]
  },
  {
   "cell_type": "code",
   "execution_count": null,
   "metadata": {},
   "outputs": [],
   "source": [
    "npi_sqlite2"
   ]
  },
  {
   "cell_type": "code",
   "execution_count": null,
   "metadata": {},
   "outputs": [],
   "source": [
    "query3 = \"\"\"\n",
    " SELECT h.from_npi,h2.to_npi,Entity_Type_Code\n",
    "        FROM npidata AS n\n",
    "        INNER JOIN hops AS h \n",
    "        on n.NPI = h.from_npi\n",
    "        INNER JOIN hops AS h2 \n",
    "        on n.NPI = h2.to_npi\n",
    "\"\"\""
   ]
  },
  {
   "cell_type": "code",
   "execution_count": null,
   "metadata": {},
   "outputs": [],
   "source": [
    "npi_sqlite3 = pd.read_sql(query3, db)"
   ]
  },
  {
   "cell_type": "code",
   "execution_count": null,
   "metadata": {},
   "outputs": [],
   "source": [
    "npi_sqlite3"
   ]
  },
  {
   "cell_type": "code",
   "execution_count": 27,
   "metadata": {},
   "outputs": [],
   "source": [
    "query4 = \"\"\"\n",
    "    WITH npi_entity_type_1 AS (\n",
    "        SELECT NPI AS Phys_NPI,\n",
    "        n.Provider_Organization_Name AS Phys_Office,\n",
    "        n.Provider_Last_Name AS Phys_Last_Name, \n",
    "        n.Provider_First_Name AS Phys_First_Name, \n",
    "        t.Classification AS Phys_Class, \n",
    "        t.Specialization AS Phys_Spec\n",
    "        FROM npidata as n\n",
    "        INNER JOIN CBSA as c\n",
    "        ON n.Address_Postal_Codes = c.ZIP\n",
    "        INNER JOIN taxonomy as t\n",
    "        ON n.Healthcare_Provider_Taxonomy_Code = t.Code\n",
    "        WHERE Entity_Type_Code = 1.0 AND CBSA = 34980\n",
    "    ), npi_entity_type_2 AS (\n",
    "        SELECT NPI AS Hosp_NPI, \n",
    "        n.Provider_Organization_Name AS Hospital,\n",
    "        t.Classification AS Hosp_Class, \n",
    "        t.Specialization AS Hosp_Spec\n",
    "        FROM npidata as n\n",
    "        INNER JOIN CBSA as c\n",
    "        ON n.Address_Postal_Codes = c.ZIP\n",
    "        INNER JOIN taxonomy as t\n",
    "        ON n.Healthcare_Provider_Taxonomy_Code = t.Code\n",
    "        WHERE Entity_Type_Code = 2.0 AND CBSA = 34980 AND Classification = 'General Acute Care Hospital'\n",
    "    )\n",
    "    SELECT from_npi, \n",
    "    to_npi, \n",
    "    patient_count, \n",
    "    transaction_count,\n",
    "    average_day_wait, \n",
    "    Phys_NPI,\n",
    "    Phys_Office,\n",
    "    Phys_Last_Name, \n",
    "    Phys_First_Name, \n",
    "    Phys_Class,\n",
    "    Phys_Spec,\n",
    "    Hosp_NPI,\n",
    "    Hospital,\n",
    "    Hosp_Class,\n",
    "    Hosp_Spec\n",
    "    FROM hops\n",
    "    INNER JOIN npi_entity_type_1\n",
    "    ON hops.from_npi = npi_entity_type_1.Phys_NPI\n",
    "    INNER JOIN npi_entity_type_2\n",
    "    ON hops.to_npi = npi_entity_type_2.Hosp_NPI  \n",
    "    WHERE from_npi IN (SELECT Phys_NPI FROM npi_entity_type_1)\n",
    "    AND to_npi IN (SELECT Hosp_NPI FROM npi_entity_type_2)\n",
    "\"\"\""
   ]
  },
  {
   "cell_type": "code",
   "execution_count": 28,
   "metadata": {},
   "outputs": [],
   "source": [
    "filtered_hop_teaming = pd.read_sql(query4, db)"
   ]
  },
  {
   "cell_type": "code",
   "execution_count": 6,
   "metadata": {
    "scrolled": true
   },
   "outputs": [
    {
     "ename": "NameError",
     "evalue": "name 'filtered_hop_teaming' is not defined",
     "output_type": "error",
     "traceback": [
      "\u001b[1;31m---------------------------------------------------------------------------\u001b[0m",
      "\u001b[1;31mNameError\u001b[0m                                 Traceback (most recent call last)",
      "\u001b[1;32m<ipython-input-6-a5ba2f5f43a3>\u001b[0m in \u001b[0;36m<module>\u001b[1;34m\u001b[0m\n\u001b[1;32m----> 1\u001b[1;33m \u001b[0mfiltered_hop_teaming\u001b[0m\u001b[1;33m.\u001b[0m\u001b[0mshape\u001b[0m\u001b[1;33m\u001b[0m\u001b[1;33m\u001b[0m\u001b[0m\n\u001b[0m",
      "\u001b[1;31mNameError\u001b[0m: name 'filtered_hop_teaming' is not defined"
     ]
    }
   ],
   "source": [
    "filtered_hop_teaming.shape"
   ]
  },
  {
   "cell_type": "code",
   "execution_count": 30,
   "metadata": {},
   "outputs": [],
   "source": [
    "filtered_hop_teaming.to_csv(\"data/Filtered_Hop_Team_Data\")"
   ]
  },
  {
   "cell_type": "code",
   "execution_count": 7,
   "metadata": {},
   "outputs": [],
   "source": [
    "filtered_hop_teaming.to_sql('hop_filtered', db, if_exists = 'append', index = False)"
   ]
  },
  {
   "cell_type": "code",
   "execution_count": 8,
   "metadata": {},
   "outputs": [],
   "source": [
    "db.close()"
   ]
  },
  {
   "cell_type": "code",
   "execution_count": null,
   "metadata": {},
   "outputs": [],
   "source": [
    "query1 = \"\"\"\n",
    "        SELECT *\n",
    "        FROM npidata AS n\n",
    "        INNER JOIN taxonomy AS t\n",
    "        on n.Healthcare_Provider_Taxonomy_Code = t.Code\n",
    "        INNER JOIN hop_filtered AS h \n",
    "        on n.NPI = h.to_npi\n",
    "        INNER JOIN CBSA as c\n",
    "        on n.Address_Postal_Codes = c.ZIP\n",
    "        WHERE CBSA = 34980 AND Classification = 'General Acute Care Hospital'\n",
    " \"\"\""
   ]
  },
  {
   "cell_type": "code",
   "execution_count": 10,
   "metadata": {},
   "outputs": [],
   "source": [
    "query5 = \"\"\"\n",
    "    WITH npi_entity_type_1 AS (\n",
    "        SELECT NPI AS Phys_NPI,\n",
    "        n.Provider_Organization_Name AS Phys_Office,\n",
    "        n.Provider_Last_Name AS Phys_Last_Name, \n",
    "        n.Provider_First_Name AS Phys_First_Name, \n",
    "        t.Classification AS Phys_Class, \n",
    "        t.Specialization AS Phys_Spec,\n",
    "        n.First_Line_Address AS Phys_Address,\n",
    "        n.Address_City AS Phys_City,\n",
    "        n.Address_Postal_Codes AS Phys_Zipcode\n",
    "        FROM npidata as n\n",
    "        INNER JOIN CBSA as c\n",
    "        ON n.Address_Postal_Codes = c.ZIP\n",
    "        INNER JOIN taxonomy as t\n",
    "        ON n.Healthcare_Provider_Taxonomy_Code = t.Code\n",
    "        WHERE Entity_Type_Code = 1.0 AND CBSA = 34980\n",
    "    ), npi_entity_type_2 AS (\n",
    "        SELECT NPI AS Hosp_NPI, \n",
    "        n.Provider_Organization_Name AS Hospital,\n",
    "        t.Classification AS Hosp_Class, \n",
    "        t.Specialization AS Hosp_Spec\n",
    "        FROM npidata as n\n",
    "        INNER JOIN CBSA as c\n",
    "        ON n.Address_Postal_Codes = c.ZIP\n",
    "        INNER JOIN taxonomy as t\n",
    "        ON n.Healthcare_Provider_Taxonomy_Code = t.Code\n",
    "        WHERE Entity_Type_Code = 2.0 AND CBSA = 34980\n",
    "    )\n",
    "    SELECT from_npi, \n",
    "    to_npi, \n",
    "    patient_count, \n",
    "    transaction_count,\n",
    "    average_day_wait, \n",
    "    Phys_NPI,\n",
    "    Phys_Office,\n",
    "    Phys_Last_Name, \n",
    "    Phys_First_Name, \n",
    "    Phys_Class,\n",
    "    Phys_Spec,\n",
    "    Phys_Address,\n",
    "    Phys_City,\n",
    "    Phys_Zipcode,\n",
    "    Hosp_NPI,\n",
    "    Hospital,\n",
    "    Hosp_Class,\n",
    "    Hosp_Spec\n",
    "    FROM hops\n",
    "    INNER JOIN npi_entity_type_1\n",
    "    ON hops.from_npi = npi_entity_type_1.Phys_NPI\n",
    "    INNER JOIN npi_entity_type_2\n",
    "    ON hops.to_npi = npi_entity_type_2.Hosp_NPI  \n",
    "    WHERE from_npi IN (SELECT Phys_NPI FROM npi_entity_type_1)\n",
    "    AND to_npi IN (SELECT Hosp_NPI FROM npi_entity_type_2)\n",
    "\"\"\""
   ]
  },
  {
   "cell_type": "code",
   "execution_count": 11,
   "metadata": {},
   "outputs": [],
   "source": [
    "npi_sqlite5 = pd.read_sql(query5, db)"
   ]
  },
  {
   "cell_type": "code",
   "execution_count": 12,
   "metadata": {},
   "outputs": [],
   "source": [
    "npi_sqlite5.to_csv(\"./data/list for addresses\")"
   ]
  },
  {
   "cell_type": "markdown",
   "metadata": {},
   "source": [
    "Questions to consider with the data:\n",
    "- How do we combine and filter datasets to have npi_from to be entity type 1's only and to_npi to be entity type 2's only\n",
    "- Once we have the completed dataset, Are there any filters we want to put on taxonomy classification types (i.e. drama therapists, veterinarian, bus, train etc.)\n",
    "- What hospitals are we considering in this analysis?"
   ]
  }
 ],
 "metadata": {
  "kernelspec": {
   "display_name": "Python 3",
   "language": "python",
   "name": "python3"
  },
  "language_info": {
   "codemirror_mode": {
    "name": "ipython",
    "version": 3
   },
   "file_extension": ".py",
   "mimetype": "text/x-python",
   "name": "python",
   "nbconvert_exporter": "python",
   "pygments_lexer": "ipython3",
   "version": "3.8.3"
  }
 },
 "nbformat": 4,
 "nbformat_minor": 4
}
